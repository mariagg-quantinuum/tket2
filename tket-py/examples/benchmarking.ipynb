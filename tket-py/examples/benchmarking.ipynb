{
 "cells": [
  {
   "cell_type": "code",
   "execution_count": 4,
   "id": "ad72c321-07f7-4625-a72a-ff8ac17af25e",
   "metadata": {},
   "outputs": [],
   "source": [
    "import sys"
   ]
  },
  {
   "cell_type": "code",
   "execution_count": 5,
   "id": "3edd065d",
   "metadata": {},
   "outputs": [],
   "source": [
    "from pytket import Circuit\n",
    "from tket.circuit import Tk2Circuit\n",
    "# from tket.protocol import CircuitReplacer"
   ]
  },
  {
   "cell_type": "code",
   "execution_count": 6,
   "id": "dc6c474e",
   "metadata": {},
   "outputs": [],
   "source": [
    "sys.path.append(\"../../../tket2-rewriting/tket2_rewriting\")\n",
    "from circuit_generation.gadget import CXGadgetBenchmarkCircuit,SimpleLabelFriendlyCircuit\n",
    "from pytket.circuit.display import render_circuit_jupyter\n",
    "import numpy as np\n",
    "from pytket.passes import DecomposeBoxes, AutoRebase\n",
    "from pytket import OpType\n",
    "\n",
    "# # Original circuit to be compiled\n",
    "# orig_circuit = SimpleLabelFriendlyCircuit(width=5, depth=10, rng=np.random.default_rng(0))\n",
    "# orig_circuit.n_2qb_gates()"
   ]
  },
  {
   "cell_type": "code",
   "execution_count": 7,
   "id": "1577bbd0",
   "metadata": {},
   "outputs": [],
   "source": [
    "orig_circuit = Circuit(2,2).CX(0,1).X(0).CX(0,1)"
   ]
  },
  {
   "cell_type": "code",
   "execution_count": 8,
   "id": "46385657",
   "metadata": {},
   "outputs": [
    {
     "data": {
      "text/plain": [
       "[CX q[0], q[1]; X q[0]; CX q[0], q[1]; ]"
      ]
     },
     "execution_count": 8,
     "metadata": {},
     "output_type": "execute_result"
    }
   ],
   "source": [
    "orig_circuit"
   ]
  },
  {
   "cell_type": "code",
   "execution_count": 9,
   "id": "056c4a14-326f-440c-b6ce-4bfb0ec93909",
   "metadata": {
    "scrolled": true
   },
   "outputs": [],
   "source": [
    "sys.path.append(\"../../../tket2-rewriting/tket2_rewriting\")\n",
    "\n",
    "from cx_gadget.cx_gadget import CXGadget\n",
    "from zzphase_flip.zzphase_flip import ZZPhaseFlip\n",
    "from three_qubit_squash.three_qubit_squash_gadget import Squash3Gadget\n",
    "from KAK.kak_gadget import KAKGadget\n",
    "from label.label_gadget import LabelGadget"
   ]
  },
  {
   "cell_type": "code",
   "execution_count": 10,
   "id": "97b1818c",
   "metadata": {},
   "outputs": [
    {
     "data": {
      "text/plain": [
       "<Tk2Circuit at 0x116ebf310>"
      ]
     },
     "execution_count": 10,
     "metadata": {},
     "output_type": "execute_result"
    }
   ],
   "source": [
    "circuit_tk2 = Tk2Circuit(orig_circuit)\n",
    "circuit_tk2"
   ]
  },
  {
   "cell_type": "markdown",
   "id": "c0255a7c",
   "metadata": {},
   "source": [
    "## Existing gadgets"
   ]
  },
  {
   "cell_type": "code",
   "execution_count": 11,
   "id": "3f212d28",
   "metadata": {},
   "outputs": [],
   "source": [
    "from tket.optimiser import BadgerOptimiser\n",
    "from time import time\n",
    "from pytket.passes import GreedyPauliSimp, FullPeepholeOptimise\n",
    "\n",
    "circuit = orig_circuit.copy()\n",
    "\n",
    "opt = BadgerOptimiser(\n",
    "    [\n",
    "        # ZZPhaseFlip(),\n",
    "        # CXGadget(),\n",
    "        # Squash3Gadget(),\n",
    "        # KAKGadget()\n",
    "        LabelGadget()\n",
    "    ]\n",
    ")"
   ]
  },
  {
   "cell_type": "code",
   "execution_count": 12,
   "id": "7d3965bf",
   "metadata": {},
   "outputs": [
    {
     "name": "stdout",
     "output_type": "stream",
     "text": [
      "[DEBUG] get_map PID=41483 TID=8688410944 label_map_id=4618912832 map={}\n",
      "[DEBUG] init_label_map PID=41483 TID=8688410944 label_map_id=4588982784 map={0: '0', 1: '0'}\n",
      "[DEBUG] get_label q=0 -> 0 PID=41483 TID=8688410944 label_map_id=4588982784 map={0: '0', 1: '0'}\n",
      "[DEBUG] get_label q=1 -> 0 PID=41483 TID=8688410944 label_map_id=4588982784 map={0: '0', 1: '0'}\n",
      "[DEBUG]: I recognise a CX\n",
      "[DEBUG] get_map PID=41483 TID=8688410944 label_map_id=4588982784 map={0: '0', 1: '0'}\n",
      "[DEBUG] get_label q=0 -> 0 PID=41483 TID=8688410944 label_map_id=4588982784 map={0: '0', 1: '0'}\n",
      "[DEBUG]: I recognise a X\n",
      "[DEBUG] update_label q=0 -> 1 PID=41483 TID=8688410944 label_map_id=4588982784 map={0: '1', 1: '0'}\n",
      "[DEBUG] get_map PID=41483 TID=8688410944 label_map_id=4588982784 map={0: '1', 1: '0'}\n",
      "[DEBUG] get_label q=0 -> 1 PID=41483 TID=8688410944 label_map_id=4588982784 map={0: '1', 1: '0'}\n",
      "[DEBUG] get_label q=1 -> 0 PID=41483 TID=8688410944 label_map_id=4588982784 map={0: '1', 1: '0'}\n",
      "[DEBUG]: I recognise a CX\n",
      "[DEBUG] update_label q=1 -> 1 PID=41483 TID=8688410944 label_map_id=4588982784 map={0: '1', 1: '1'}\n",
      "[DEBUG] get_map PID=41483 TID=8688410944 label_map_id=4588982784 map={0: '1', 1: '1'}\n",
      "[DEBUG] get_label q=0 -> 1 PID=41483 TID=8688410944 label_map_id=4588982784 map={0: '1', 1: '1'}\n",
      "[DEBUG] get_label q=1 -> 1 PID=41483 TID=8688410944 label_map_id=4588982784 map={0: '1', 1: '1'}\n",
      "[DEBUG]: I recognise a CX\n",
      "[DEBUG] update_label q=1 -> 0 PID=41483 TID=8688410944 label_map_id=4588982784 map={0: '1', 1: '0'}\n",
      "[DEBUG] get_map PID=41483 TID=8688410944 label_map_id=4588982784 map={0: '1', 1: '0'}\n",
      "[DEBUG] get_label q=0 -> 1 PID=41483 TID=8688410944 label_map_id=4588982784 map={0: '1', 1: '0'}\n",
      "[DEBUG] get_label q=1 -> 0 PID=41483 TID=8688410944 label_map_id=4588982784 map={0: '1', 1: '0'}\n",
      "[DEBUG]: I recognise a CX\n",
      "[DEBUG] update_label q=1 -> 1 PID=41483 TID=8688410944 label_map_id=4588982784 map={0: '1', 1: '1'}\n",
      "[DEBUG] get_map PID=41483 TID=8688410944 label_map_id=4588982784 map={0: '1', 1: '1'}\n",
      "[DEBUG] get_label q=0 -> 1 PID=41483 TID=8688410944 label_map_id=4588982784 map={0: '1', 1: '1'}\n",
      "[DEBUG]: I recognise a X\n",
      "[DEBUG] update_label q=0 -> 0 PID=41483 TID=8688410944 label_map_id=4588982784 map={0: '0', 1: '1'}\n",
      "[DEBUG] get_map PID=41483 TID=8688410944 label_map_id=4588982784 map={0: '0', 1: '1'}\n",
      "[DEBUG] get_label q=0 -> 0 PID=41483 TID=8688410944 label_map_id=4588982784 map={0: '0', 1: '1'}\n",
      "[DEBUG] get_label q=1 -> 1 PID=41483 TID=8688410944 label_map_id=4588982784 map={0: '0', 1: '1'}\n",
      "[DEBUG]: I recognise a CX\n",
      "[DEBUG] get_map PID=41483 TID=8688410944 label_map_id=4588982784 map={0: '0', 1: '1'}\n",
      "[DEBUG] get_label q=0 -> 0 PID=41483 TID=8688410944 label_map_id=4588982784 map={0: '0', 1: '1'}\n",
      "[DEBUG]: I recognise a X\n",
      "[DEBUG] update_label q=0 -> 1 PID=41483 TID=8688410944 label_map_id=4588982784 map={0: '1', 1: '1'}\n",
      "[DEBUG] get_map PID=41483 TID=8688410944 label_map_id=4588982784 map={0: '1', 1: '1'}\n",
      "[DEBUG] get_label q=0 -> 1 PID=41483 TID=8688410944 label_map_id=4588982784 map={0: '1', 1: '1'}\n",
      "[DEBUG] get_label q=1 -> 1 PID=41483 TID=8688410944 label_map_id=4588982784 map={0: '1', 1: '1'}\n",
      "[DEBUG]: I recognise a CX\n",
      "[DEBUG] update_label q=1 -> 0 PID=41483 TID=8688410944 label_map_id=4588982784 map={0: '1', 1: '0'}\n",
      "[DEBUG] get_map PID=41483 TID=8688410944 label_map_id=4588982784 map={0: '1', 1: '0'}\n",
      "[DEBUG] get_label q=0 -> 1 PID=41483 TID=8688410944 label_map_id=4588982784 map={0: '1', 1: '0'}\n",
      "[DEBUG] get_label q=1 -> 0 PID=41483 TID=8688410944 label_map_id=4588982784 map={0: '1', 1: '0'}\n",
      "[DEBUG]: I recognise a CX\n",
      "[DEBUG] update_label q=1 -> 1 PID=41483 TID=8688410944 label_map_id=4588982784 map={0: '1', 1: '1'}\n",
      "[DEBUG] get_map PID=41483 TID=8688410944 label_map_id=4588982784 map={0: '1', 1: '1'}\n",
      "[DEBUG] get_label q=0 -> 1 PID=41483 TID=8688410944 label_map_id=4588982784 map={0: '1', 1: '1'}\n",
      "[DEBUG]: I recognise a X\n",
      "[DEBUG] update_label q=0 -> 0 PID=41483 TID=8688410944 label_map_id=4588982784 map={0: '0', 1: '1'}\n",
      "time taken: 0.005596160888671875\n"
     ]
    }
   ],
   "source": [
    "# Optimise circuit and time the optimisation - this is doing something\n",
    "start_time = time()\n",
    "opt_circ = opt.optimise(circuit_tk2)\n",
    "print(f\"time taken: {time() - start_time}\")\n"
   ]
  },
  {
   "cell_type": "markdown",
   "id": "99f50a1e",
   "metadata": {},
   "source": [
    "1 qubit gate, if CX : 0->1, 1->0, if I: 0->0, 1->1, otherwise ?\n",
    "2 qubit gate, if CX: control 0 -> target stays as is, control 1 -> target swaps 0->1 or 1->0, control label is unchanged\n",
    "else: control 0 -> target stays as is, control 1 -> target ?, control label is unchanged"
   ]
  },
  {
   "cell_type": "code",
   "execution_count": 13,
   "id": "227e8f7b",
   "metadata": {},
   "outputs": [
    {
     "data": {
      "text/plain": [
       "(pytket._tket.circuit.Circuit, pytket._tket.circuit.Circuit)"
      ]
     },
     "execution_count": 13,
     "metadata": {},
     "output_type": "execute_result"
    }
   ],
   "source": [
    "opt_circ1 = opt_circ.to_tket1()\n",
    "type(opt_circ1) , type(circuit)"
   ]
  },
  {
   "cell_type": "code",
   "execution_count": 14,
   "id": "ddefd8ca",
   "metadata": {},
   "outputs": [
    {
     "name": "stdout",
     "output_type": "stream",
     "text": [
      "Two qubit gates: 1 vs previous: 2\n"
     ]
    }
   ],
   "source": [
    "print(f\"Two qubit gates: {opt_circ1.n_2qb_gates()} vs previous: {circuit.n_2qb_gates()}\")"
   ]
  },
  {
   "cell_type": "code",
   "execution_count": 15,
   "id": "88ef0f1b",
   "metadata": {},
   "outputs": [
    {
     "data": {
      "text/plain": [
       "[CX q[0], q[1]; X q[0]; CX q[0], q[1]; ]"
      ]
     },
     "execution_count": 15,
     "metadata": {},
     "output_type": "execute_result"
    }
   ],
   "source": [
    "orig_circuit"
   ]
  },
  {
   "cell_type": "code",
   "execution_count": 16,
   "id": "9aacc715",
   "metadata": {},
   "outputs": [
    {
     "data": {
      "text/plain": [
       "[X q[0]; CX q[0], q[1]; ]"
      ]
     },
     "execution_count": 16,
     "metadata": {},
     "output_type": "execute_result"
    }
   ],
   "source": [
    "opt_circ1"
   ]
  },
  {
   "cell_type": "code",
   "execution_count": 17,
   "id": "93c71388",
   "metadata": {},
   "outputs": [
    {
     "name": "stdout",
     "output_type": "stream",
     "text": [
      "Two qubit gates: 1\n"
     ]
    }
   ],
   "source": [
    "# Follow with FullPeepholeOptimise\n",
    "FullPeepholeOptimise().apply(opt_circ1)\n",
    "print(f\"Two qubit gates: {opt_circ1.n_2qb_gates()}\")"
   ]
  },
  {
   "cell_type": "code",
   "execution_count": 18,
   "id": "1fbb8d3b",
   "metadata": {},
   "outputs": [
    {
     "data": {
      "text/plain": [
       "[TK1(0, 1, 0) q[0]; CX q[0], q[1]; ]"
      ]
     },
     "execution_count": 18,
     "metadata": {},
     "output_type": "execute_result"
    }
   ],
   "source": [
    "opt_circ1"
   ]
  },
  {
   "cell_type": "code",
   "execution_count": 19,
   "id": "d13089c5",
   "metadata": {},
   "outputs": [
    {
     "name": "stdout",
     "output_type": "stream",
     "text": [
      "Two qubit gates: 0\n"
     ]
    }
   ],
   "source": [
    "# With GreedyPauliSimp the result is not as good\n",
    "circuit = orig_circuit.copy()\n",
    "GreedyPauliSimp().apply(circuit)\n",
    "print(f\"Two qubit gates: {circuit.n_2qb_gates()}\")\n",
    "# render_circuit_jupyter(circuit)"
   ]
  },
  {
   "cell_type": "code",
   "execution_count": 20,
   "id": "82046ac7",
   "metadata": {},
   "outputs": [
    {
     "data": {
      "text/plain": [
       "[TK1(0, 1, 0) q[0]; CX q[0], q[1]; ]"
      ]
     },
     "execution_count": 20,
     "metadata": {},
     "output_type": "execute_result"
    }
   ],
   "source": [
    "opt_circ1"
   ]
  },
  {
   "cell_type": "code",
   "execution_count": 21,
   "id": "cac86f35",
   "metadata": {},
   "outputs": [
    {
     "name": "stdout",
     "output_type": "stream",
     "text": [
      "Two qubit gates: 0\n"
     ]
    }
   ],
   "source": [
    "# With FullPeephole the result is not as good\n",
    "circuit = orig_circuit.copy()\n",
    "FullPeepholeOptimise().apply(circuit)\n",
    "print(f\"Two qubit gates: {circuit.n_2qb_gates()}\")\n",
    "# render_circuit_jupyter(circuit)"
   ]
  },
  {
   "cell_type": "code",
   "execution_count": 22,
   "id": "850d6234",
   "metadata": {},
   "outputs": [
    {
     "name": "stdout",
     "output_type": "stream",
     "text": [
      "Two qubit gates: 0\n"
     ]
    }
   ],
   "source": [
    "# With both the result is not as good\n",
    "circuit = orig_circuit.copy()\n",
    "GreedyPauliSimp().apply(circuit)\n",
    "FullPeepholeOptimise().apply(circuit)\n",
    "print(f\"Two qubit gates: {circuit.n_2qb_gates()}\")\n",
    "# render_circuit_jupyter(circuit)"
   ]
  }
 ],
 "metadata": {
  "kernelspec": {
   "display_name": "tket2",
   "language": "python",
   "name": "python3"
  },
  "language_info": {
   "codemirror_mode": {
    "name": "ipython",
    "version": 3
   },
   "file_extension": ".py",
   "mimetype": "text/x-python",
   "name": "python",
   "nbconvert_exporter": "python",
   "pygments_lexer": "ipython3",
   "version": "3.10.18"
  }
 },
 "nbformat": 4,
 "nbformat_minor": 5
}
