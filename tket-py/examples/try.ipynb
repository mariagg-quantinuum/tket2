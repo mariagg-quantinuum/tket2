{
 "cells": [
  {
   "cell_type": "code",
   "execution_count": 5,
   "id": "82d66f73",
   "metadata": {},
   "outputs": [],
   "source": [
    "from pytket import Circuit\n",
    "from tket.circuit import Tk2Circuit\n",
    "from tket.protocol import CircuitReplacer,CircuitMatcher\n",
    "from tket.matcher import CircuitUnit\n",
    "from tket._tket.ops import TketOp\n",
    "from tket.matcher import MatchOutcome, MatchContext\n",
    "from tket.ops import TketOp as PyTketOp\n",
    "import sys\n",
    "sys.path.append(\"../../../tket2-rewriting/tket2_rewriting\")\n",
    "from label.label_map import init_label_map,update_label,get_label,get_map"
   ]
  },
  {
   "cell_type": "code",
   "execution_count": 6,
   "id": "306ee08d",
   "metadata": {},
   "outputs": [
    {
     "data": {
      "text/plain": [
       "[(0, 'CX', [0, 1]), (1, 'X', [0]), (2, 'CX', [0, 1])]"
      ]
     },
     "execution_count": 6,
     "metadata": {},
     "output_type": "execute_result"
    }
   ],
   "source": [
    "orig_circuit = Circuit(2,2).CX(0,1).X(0).CX(0,1)\n",
    "ops = list(Tk2Circuit(orig_circuit).to_tket1())\n",
    "[(i, cmd.op.type.name, [q.index[0] for q in cmd.args]) for i, cmd in enumerate(ops)]\n"
   ]
  },
  {
   "cell_type": "code",
   "execution_count": 7,
   "id": "cceefcb8",
   "metadata": {},
   "outputs": [
    {
     "data": {
      "text/plain": [
       "[('CX', False, True), ('X', True, False), ('CX', False, True)]"
      ]
     },
     "execution_count": 7,
     "metadata": {},
     "output_type": "execute_result"
    }
   ],
   "source": [
    "from tket.ops import TketOp as PyTketOp\n",
    "\n",
    "def is_type(op, name): return getattr(op, \"type\", None) and op.type.name == name\n",
    "def is_type_or(op, name, py): \n",
    "    try: return is_type(op,name) or (op == py._to_rs())\n",
    "    except: return is_type(op,name)\n",
    "\n",
    "[(cmd.op.type.name, \n",
    "  is_type_or(cmd.op, \"X\", PyTketOp.X), \n",
    "  is_type_or(cmd.op, \"CX\", PyTketOp.CX))\n",
    " for cmd in ops]\n"
   ]
  },
  {
   "cell_type": "code",
   "execution_count": 8,
   "id": "41ce4403",
   "metadata": {},
   "outputs": [
    {
     "data": {
      "text/plain": [
       "[(0, 'delete', {0: '0', 1: '0'}), (2, 'keep', {0: '1', 1: '0'})]"
      ]
     },
     "execution_count": 8,
     "metadata": {},
     "output_type": "execute_result"
    }
   ],
   "source": [
    "labels = {0:\"0\", 1:\"0\"}\n",
    "def flip(q): labels[q] = \"1\" if labels[q]==\"0\" else \"0\"\n",
    "\n",
    "decisions = []\n",
    "for i, cmd in enumerate(ops):\n",
    "    name = cmd.op.type.name\n",
    "    qs = [q.index[0] for q in cmd.args]\n",
    "    if name == \"X\":\n",
    "        flip(qs[0])\n",
    "    elif name == \"CX\":\n",
    "        c, t = qs\n",
    "        decisions.append((i, \"delete\" if labels[c]==\"0\" else \"keep\", dict(labels)))\n",
    "decisions\n"
   ]
  }
 ],
 "metadata": {
  "kernelspec": {
   "display_name": "tket2",
   "language": "python",
   "name": "python3"
  },
  "language_info": {
   "codemirror_mode": {
    "name": "ipython",
    "version": 3
   },
   "file_extension": ".py",
   "mimetype": "text/x-python",
   "name": "python",
   "nbconvert_exporter": "python",
   "pygments_lexer": "ipython3",
   "version": "3.10.18"
  }
 },
 "nbformat": 4,
 "nbformat_minor": 5
}
