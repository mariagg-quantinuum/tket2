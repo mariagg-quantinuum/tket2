{
 "cells": [
  {
   "cell_type": "code",
   "execution_count": 4,
   "id": "0b5d3ef6",
   "metadata": {},
   "outputs": [],
   "source": [
    "import sys\n",
    "import time\n",
    "import numpy as np\n",
    "from pathlib import Path\n",
    "from tqdm import tqdm\n",
    "from typing import Callable, Dict, List\n",
    "\n",
    "# pytket imports\n",
    "from pytket import Circuit, OpType\n",
    "from pytket.passes import DecomposeBoxes, AutoRebase#, FullPeepholeOptimise\n",
    "\n",
    "sys.path.append(\"../../../tket2-rewriting/tket2_rewriting/tket2_rewriting\")\n",
    "\n",
    "# import your custom optimisers\n",
    "# from cx_gadget.cx_gadget import CXGadget\n",
    "# from zzphase_flip.zzphase_flip import ZZPhaseFlip\n",
    "from three_qubit_squash.three_qubit_squash_gadget import Squash3Gadget\n",
    "# from label.label_gadget import LabelGadget\n",
    "# from KAK.kak_gadget import KAKGadget\n",
    "# from tket.circuit import Tk2Circuit\n",
    "# from tket.optimiser import BadgerOptimiser\n",
    "\n",
    "# from circuit_generation.cx_gadget_random import CXGadgetBenchmarkCircuit\n",
    "# from circuit_generation.cx_gadget_vanilla import CXGadgetVanillaBenchmarkCircuit\n",
    "# from circuit_generation.cx_many_rz import CXManyRzBenchmarkCircuit\n",
    "# from circuit_generation.gadget import (\n",
    "#     SquashGadgetTestCircuit,\n",
    "#     LabelFriendlyCircuit,\n",
    "#     SimpleLabelFriendlyCircuit,\n",
    "#     SimpleLabelFriendlyCircuit1,\n",
    "#     KAKFriendlyCircuit,\n",
    "# )\n",
    "\n",
    "TRACE = False"
   ]
  },
  {
   "cell_type": "code",
   "execution_count": 5,
   "id": "badced64",
   "metadata": {},
   "outputs": [
    {
     "name": "stdout",
     "output_type": "stream",
     "text": [
      "2Q: 7 → 3\n",
      "2Q: 6 → 6\n",
      "2Q: 4 → 0\n",
      "VS\n",
      "2Q: 7 → 1\n",
      "2Q: 6 → 0\n",
      "2Q: 4 → 0\n"
     ]
    }
   ],
   "source": [
    "from tket.optimiser import BadgerOptimiser\n",
    "from pytket import Circuit\n",
    "from pytket.circuit.display import render_circuit_jupyter\n",
    "from pytket.passes import ThreeQubitSquash\n",
    "\n",
    "opt = BadgerOptimiser(\n",
    "    [\n",
    "       Squash3Gadget(),\n",
    "    ]\n",
    ")\n",
    "\n",
    "c1 = Circuit(3).CX(0,1).CX(1,0).CX(0,1).CX(1,0).CX(0,1).CX(1,0).CX(0,2)\n",
    "c2 = Circuit(2).CX(0,1).CX(1,0).X(0).CX(0,1).CX(1,0).CX(0,1).CX(1,0)# Form Φ+ on (0,1):  H(0); CX(0,1)\n",
    "c3 = Circuit(3).CX(0,1).CX(1,2).CX(1,2).CX(0,1)\n",
    "\n",
    "opt_c1 = opt.optimise(c1)\n",
    "opt_c2 = opt.optimise(c2)\n",
    "opt_c3 = opt.optimise(c3)\n",
    "\n",
    "print(f\"2Q: {c1.n_2qb_gates()} → {opt_c1.n_2qb_gates()}\")\n",
    "print(f\"2Q: {c2.n_2qb_gates()} → {opt_c2.n_2qb_gates()}\")\n",
    "print(f\"2Q: {c3.n_2qb_gates()} → {opt_c3.n_2qb_gates()}\")\n",
    "\n",
    "# --- vs ---\n",
    "\n",
    "print(\"VS\")\n",
    "\n",
    "d1 = Circuit(3).CX(0,1).CX(1,0).CX(0,1).CX(1,0).CX(0,1).CX(1,0).CX(0,2)\n",
    "d2 = Circuit(2).CX(0,1).CX(1,0).X(0).CX(0,1).CX(1,0).CX(0,1).CX(1,0)\n",
    "d3 = Circuit(3).CX(0,1).CX(1,2).CX(1,2).CX(0,1)\n",
    "\n",
    "ThreeQubitSquash(allow_swaps=False).apply(c1)\n",
    "ThreeQubitSquash(allow_swaps=False).apply(c2)\n",
    "ThreeQubitSquash(allow_swaps=False).apply(c3)\n",
    "\n",
    "print(f\"2Q: {d1.n_2qb_gates()} → {c1.n_2qb_gates()}\")\n",
    "print(f\"2Q: {d2.n_2qb_gates()} → {c2.n_2qb_gates()}\")\n",
    "print(f\"2Q: {d3.n_2qb_gates()} → {c3.n_2qb_gates()}\")"
   ]
  },
  {
   "cell_type": "code",
   "execution_count": 6,
   "id": "b2dd8406",
   "metadata": {},
   "outputs": [],
   "source": [
    "# c = Circuit(3).H(0).CX(0,1)\n",
    "# c.Z(0)   # Φ+ -> Φ- (sign flip)\n",
    "# c.X(1)   # Φ- -> Ψ- (family flip)\n",
    "# c.Y(0)   # Ψ- -> Ψ+ (family + sign flip)\n",
    "# c.CX(2,0)   # should break Bell(0,1) labels\n",
    "# c.X(0).Z(1)"
   ]
  }
 ],
 "metadata": {
  "kernelspec": {
   "display_name": "tket2",
   "language": "python",
   "name": "python3"
  },
  "language_info": {
   "codemirror_mode": {
    "name": "ipython",
    "version": 3
   },
   "file_extension": ".py",
   "mimetype": "text/x-python",
   "name": "python",
   "nbconvert_exporter": "python",
   "pygments_lexer": "ipython3",
   "version": "3.10.18"
  }
 },
 "nbformat": 4,
 "nbformat_minor": 5
}
